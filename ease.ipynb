{
 "cells": [
  {
   "cell_type": "code",
   "execution_count": 1,
   "id": "d8486a32",
   "metadata": {},
   "outputs": [],
   "source": [
    "import pandas as pd"
   ]
  },
  {
   "cell_type": "code",
   "execution_count": 2,
   "id": "d1e5233a",
   "metadata": {},
   "outputs": [],
   "source": [
    "data_df = pd.read_csv('Retail_Prices_of _Products.csv')"
   ]
  },
  {
   "cell_type": "code",
   "execution_count": null,
   "id": "408912f7",
   "metadata": {},
   "outputs": [],
   "source": [
    "data_df"
   ]
  },
  {
   "cell_type": "code",
   "execution_count": null,
   "id": "891a7b30",
   "metadata": {},
   "outputs": [],
   "source": [
    "\n",
    "data_df.head()"
   ]
  },
  {
   "cell_type": "code",
   "execution_count": null,
   "id": "4090c1d9",
   "metadata": {},
   "outputs": [],
   "source": [
    "data_df.tail()"
   ]
  },
  {
   "cell_type": "code",
   "execution_count": null,
   "id": "dbbcee2b",
   "metadata": {},
   "outputs": [],
   "source": [
    "# gives information about your data\n",
    "data_df.info()"
   ]
  },
  {
   "cell_type": "code",
   "execution_count": null,
   "id": "b3328bee",
   "metadata": {},
   "outputs": [],
   "source": [
    "# for random selection\n",
    "data_df.sampel() "
   ]
  },
  {
   "cell_type": "code",
   "execution_count": null,
   "id": "e5996b0c",
   "metadata": {},
   "outputs": [],
   "source": [
    "# returns the no of rows and colums your data\n",
    "data_df.shape"
   ]
  },
  {
   "cell_type": "code",
   "execution_count": null,
   "id": "fa6176ff",
   "metadata": {},
   "outputs": [],
   "source": [
    "# for column names and data types\n",
    "data_df.dtypes"
   ]
  },
  {
   "cell_type": "code",
   "execution_count": 10,
   "id": "72b8efdf",
   "metadata": {},
   "outputs": [
    {
     "data": {
      "text/plain": [
       "Index(['Year', 'Month', 'GEO', 'Product Category', 'Products', 'VALUE',\n",
       "       'Taxable', 'Total tax rate', 'Value after tax', 'Essential',\n",
       "       'COORDINATE', 'UOM'],\n",
       "      dtype='object')"
      ]
     },
     "execution_count": 10,
     "metadata": {},
     "output_type": "execute_result"
    }
   ],
   "source": [
    "# for names of all the coulmns\n",
    "data_df.columns"
   ]
  },
  {
   "cell_type": "code",
   "execution_count": 11,
   "id": "221110f2",
   "metadata": {},
   "outputs": [],
   "source": [
    "# to remove column that you don't want during data cleaning\n",
    "data_df.drop(['GEO','Taxable'], axis=1, inplace=True)"
   ]
  },
  {
   "cell_type": "code",
   "execution_count": 23,
   "id": "7265e458",
   "metadata": {},
   "outputs": [],
   "source": [
    "data_df['Year'] = pd.to_datetime(data_df['Year'])"
   ]
  },
  {
   "cell_type": "code",
   "execution_count": null,
   "id": "c9390c9c",
   "metadata": {},
   "outputs": [],
   "source": [
    "data_df.info()"
   ]
  },
  {
   "cell_type": "code",
   "execution_count": 20,
   "id": "cf9fb458",
   "metadata": {},
   "outputs": [],
   "source": [
    "data_df.rename(columns={'Product Category': 'Category'}, inplace=True)"
   ]
  },
  {
   "cell_type": "code",
   "execution_count": null,
   "id": "fb40938b",
   "metadata": {},
   "outputs": [],
   "source": []
  }
 ],
 "metadata": {
  "kernelspec": {
   "display_name": "Python 3",
   "language": "python",
   "name": "python3"
  },
  "language_info": {
   "codemirror_mode": {
    "name": "ipython",
    "version": 3
   },
   "file_extension": ".py",
   "mimetype": "text/x-python",
   "name": "python",
   "nbconvert_exporter": "python",
   "pygments_lexer": "ipython3",
   "version": "3.13.5"
  }
 },
 "nbformat": 4,
 "nbformat_minor": 5
}
